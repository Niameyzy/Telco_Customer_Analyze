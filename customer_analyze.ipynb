{
 "cells": [
  {
   "cell_type": "markdown",
   "id": "923d049a-0f5d-4dd0-9b14-77bf78e22f6b",
   "metadata": {},
   "source": [
    "## 1 | Description and objective "
   ]
  },
  {
   "cell_type": "markdown",
   "id": "496a76f6-6c16-4976-8292-18291994c637",
   "metadata": {},
   "source": [
    "#### Description \n",
    "\n",
    "This dataset come from Kaggle https://www.kaggle.com/datasets/blastchar/telco-customer-churn/data\n",
    "\n",
    "Each row represents a customer, each column contains customer’s attributes described on the column Metadata.\r\n",
    "\r\n",
    "The data set includes information abou- Customers who left within the last month, the column is called Churn\n",
    "\n",
    "- Services that each customer has signed up for phone, multiple lines, internet, online security, online backup, device protection, tech support, and streaming TV and movies\n",
    "\n",
    "- Customer account information: how long they’ve been a customer, contract, payment method, paperless billing, monthly charges, and total charges\n",
    "\n",
    "- Demographic info about customers: gender, age range, and if they have partners and dependents\n",
    "\n",
    "\n",
    "#### Objective: \n",
    "\n",
    "##### We are looking for findings what are the factors that have drive consumers who left within the last month. In order is to create a strategy to identify these consumers in order to retain them as customers\n",
    "endents"
   ]
  },
  {
   "cell_type": "markdown",
   "id": "9ae9a560-53a6-408e-ad47-9cc99302220b",
   "metadata": {},
   "source": [
    "## <span style= \"color:green\" > 2 | Exploratory data analysis </span>"
   ]
  },
  {
   "cell_type": "markdown",
   "id": "7ba3d39e-3a00-408f-b040-ad2739a104e9",
   "metadata": {},
   "source": [
    "### <span style= \"color:green\" >2.1 | Data Exploration </span>"
   ]
  },
  {
   "cell_type": "code",
   "execution_count": 1,
   "id": "2a384521-917d-4010-850b-59f95d7a1176",
   "metadata": {},
   "outputs": [],
   "source": [
    "import pandas as pd\n",
    "import numpy as np\n",
    "\n",
    "import seaborn as sns\n",
    "import matplotlib.pyplot as plt \n",
    "\n",
    "from  scipy.stats import chi2_contingency  \n",
    "from scipy.stats.contingency import association\n"
   ]
  },
  {
   "cell_type": "code",
   "execution_count": 3,
   "id": "2fe8675a-5899-4469-b3ee-1c7b8c288d9f",
   "metadata": {},
   "outputs": [],
   "source": [
    "customer_data=pd.read_csv(\"Telco_Customer_Churn.csv\")"
   ]
  },
  {
   "cell_type": "code",
   "execution_count": 4,
   "id": "998cf3b1-8863-4d79-9d26-0bc9257d0dfa",
   "metadata": {
    "scrolled": true
   },
   "outputs": [
    {
     "data": {
      "text/html": [
       "<div>\n",
       "<style scoped>\n",
       "    .dataframe tbody tr th:only-of-type {\n",
       "        vertical-align: middle;\n",
       "    }\n",
       "\n",
       "    .dataframe tbody tr th {\n",
       "        vertical-align: top;\n",
       "    }\n",
       "\n",
       "    .dataframe thead th {\n",
       "        text-align: right;\n",
       "    }\n",
       "</style>\n",
       "<table border=\"1\" class=\"dataframe\">\n",
       "  <thead>\n",
       "    <tr style=\"text-align: right;\">\n",
       "      <th></th>\n",
       "      <th>customerID</th>\n",
       "      <th>gender</th>\n",
       "      <th>SeniorCitizen</th>\n",
       "      <th>Partner</th>\n",
       "      <th>Dependents</th>\n",
       "      <th>tenure</th>\n",
       "      <th>PhoneService</th>\n",
       "      <th>MultipleLines</th>\n",
       "      <th>InternetService</th>\n",
       "      <th>OnlineSecurity</th>\n",
       "      <th>...</th>\n",
       "      <th>DeviceProtection</th>\n",
       "      <th>TechSupport</th>\n",
       "      <th>StreamingTV</th>\n",
       "      <th>StreamingMovies</th>\n",
       "      <th>Contract</th>\n",
       "      <th>PaperlessBilling</th>\n",
       "      <th>PaymentMethod</th>\n",
       "      <th>MonthlyCharges</th>\n",
       "      <th>TotalCharges</th>\n",
       "      <th>Churn</th>\n",
       "    </tr>\n",
       "  </thead>\n",
       "  <tbody>\n",
       "    <tr>\n",
       "      <th>0</th>\n",
       "      <td>7590-VHVEG</td>\n",
       "      <td>Female</td>\n",
       "      <td>0</td>\n",
       "      <td>Yes</td>\n",
       "      <td>No</td>\n",
       "      <td>1</td>\n",
       "      <td>No</td>\n",
       "      <td>No phone service</td>\n",
       "      <td>DSL</td>\n",
       "      <td>No</td>\n",
       "      <td>...</td>\n",
       "      <td>No</td>\n",
       "      <td>No</td>\n",
       "      <td>No</td>\n",
       "      <td>No</td>\n",
       "      <td>Month-to-month</td>\n",
       "      <td>Yes</td>\n",
       "      <td>Electronic check</td>\n",
       "      <td>29.85</td>\n",
       "      <td>29.85</td>\n",
       "      <td>No</td>\n",
       "    </tr>\n",
       "    <tr>\n",
       "      <th>1</th>\n",
       "      <td>5575-GNVDE</td>\n",
       "      <td>Male</td>\n",
       "      <td>0</td>\n",
       "      <td>No</td>\n",
       "      <td>No</td>\n",
       "      <td>34</td>\n",
       "      <td>Yes</td>\n",
       "      <td>No</td>\n",
       "      <td>DSL</td>\n",
       "      <td>Yes</td>\n",
       "      <td>...</td>\n",
       "      <td>Yes</td>\n",
       "      <td>No</td>\n",
       "      <td>No</td>\n",
       "      <td>No</td>\n",
       "      <td>One year</td>\n",
       "      <td>No</td>\n",
       "      <td>Mailed check</td>\n",
       "      <td>56.95</td>\n",
       "      <td>1889.5</td>\n",
       "      <td>No</td>\n",
       "    </tr>\n",
       "    <tr>\n",
       "      <th>2</th>\n",
       "      <td>3668-QPYBK</td>\n",
       "      <td>Male</td>\n",
       "      <td>0</td>\n",
       "      <td>No</td>\n",
       "      <td>No</td>\n",
       "      <td>2</td>\n",
       "      <td>Yes</td>\n",
       "      <td>No</td>\n",
       "      <td>DSL</td>\n",
       "      <td>Yes</td>\n",
       "      <td>...</td>\n",
       "      <td>No</td>\n",
       "      <td>No</td>\n",
       "      <td>No</td>\n",
       "      <td>No</td>\n",
       "      <td>Month-to-month</td>\n",
       "      <td>Yes</td>\n",
       "      <td>Mailed check</td>\n",
       "      <td>53.85</td>\n",
       "      <td>108.15</td>\n",
       "      <td>Yes</td>\n",
       "    </tr>\n",
       "  </tbody>\n",
       "</table>\n",
       "<p>3 rows × 21 columns</p>\n",
       "</div>"
      ],
      "text/plain": [
       "   customerID  gender  SeniorCitizen Partner Dependents  tenure PhoneService  \\\n",
       "0  7590-VHVEG  Female              0     Yes         No       1           No   \n",
       "1  5575-GNVDE    Male              0      No         No      34          Yes   \n",
       "2  3668-QPYBK    Male              0      No         No       2          Yes   \n",
       "\n",
       "      MultipleLines InternetService OnlineSecurity  ... DeviceProtection  \\\n",
       "0  No phone service             DSL             No  ...               No   \n",
       "1                No             DSL            Yes  ...              Yes   \n",
       "2                No             DSL            Yes  ...               No   \n",
       "\n",
       "  TechSupport StreamingTV StreamingMovies        Contract PaperlessBilling  \\\n",
       "0          No          No              No  Month-to-month              Yes   \n",
       "1          No          No              No        One year               No   \n",
       "2          No          No              No  Month-to-month              Yes   \n",
       "\n",
       "      PaymentMethod MonthlyCharges  TotalCharges Churn  \n",
       "0  Electronic check          29.85         29.85    No  \n",
       "1      Mailed check          56.95        1889.5    No  \n",
       "2      Mailed check          53.85        108.15   Yes  \n",
       "\n",
       "[3 rows x 21 columns]"
      ]
     },
     "execution_count": 4,
     "metadata": {},
     "output_type": "execute_result"
    }
   ],
   "source": [
    "customer_data.head(3)"
   ]
  },
  {
   "cell_type": "code",
   "execution_count": 5,
   "id": "b84b6af0-ee91-4a95-9398-0a421634b073",
   "metadata": {},
   "outputs": [
    {
     "name": "stdout",
     "output_type": "stream",
     "text": [
      "number of rows:7043 \n",
      "Number of columns:21\n",
      "\n",
      "Data types:\n",
      "       Columns names    Types  Counts\n",
      "0         customerID   object    7043\n",
      "1             gender   object    7043\n",
      "2      SeniorCitizen    int64    7043\n",
      "3            Partner   object    7043\n",
      "4         Dependents   object    7043\n",
      "5             tenure    int64    7043\n",
      "6       PhoneService   object    7043\n",
      "7      MultipleLines   object    7043\n",
      "8    InternetService   object    7043\n",
      "9     OnlineSecurity   object    7043\n",
      "10      OnlineBackup   object    7043\n",
      "11  DeviceProtection   object    7043\n",
      "12       TechSupport   object    7043\n",
      "13       StreamingTV   object    7043\n",
      "14   StreamingMovies   object    7043\n",
      "15          Contract   object    7043\n",
      "16  PaperlessBilling   object    7043\n",
      "17     PaymentMethod   object    7043\n",
      "18    MonthlyCharges  float64    7043\n",
      "19      TotalCharges   object    7043\n",
      "20             Churn   object    7043\n"
     ]
    }
   ],
   "source": [
    "# Number of rows and columns \n",
    "print( \"number of rows:{}\". format(customer_data.shape[0]), \"\\nNumber of columns:{}\".format(customer_data.shape[1]))\n",
    "\n",
    "#Checking columns names, data types and counts\n",
    "data_types=customer_data.dtypes\n",
    "data_counts=customer_data.count()\n",
    "\n",
    "data= pd.concat([data_types, data_counts], axis=1).reset_index()\n",
    "data= data.rename(columns={'index': 'Columns names', 0: \"Types\", 1:'Counts'})\n",
    "\n",
    "print(\"\\nData types:\\n{}\".format(data))"
   ]
  },
  {
   "cell_type": "code",
   "execution_count": 6,
   "id": "97ebd784-2661-471d-8abd-988b7163ea4f",
   "metadata": {},
   "outputs": [
    {
     "data": {
      "text/plain": [
       "customerID          7043\n",
       "gender                 2\n",
       "SeniorCitizen          2\n",
       "Partner                2\n",
       "Dependents             2\n",
       "tenure                73\n",
       "PhoneService           2\n",
       "MultipleLines          3\n",
       "InternetService        3\n",
       "OnlineSecurity         3\n",
       "OnlineBackup           3\n",
       "DeviceProtection       3\n",
       "TechSupport            3\n",
       "StreamingTV            3\n",
       "StreamingMovies        3\n",
       "Contract               3\n",
       "PaperlessBilling       2\n",
       "PaymentMethod          4\n",
       "MonthlyCharges      1585\n",
       "TotalCharges        6531\n",
       "Churn                  2\n",
       "dtype: int64"
      ]
     },
     "execution_count": 6,
     "metadata": {},
     "output_type": "execute_result"
    }
   ],
   "source": [
    "# number of unique value \n",
    "customer_data.nunique()"
   ]
  },
  {
   "cell_type": "code",
   "execution_count": 7,
   "id": "63cff9e9-de68-4d08-ad44-bf67f4525862",
   "metadata": {},
   "outputs": [
    {
     "name": "stdout",
     "output_type": "stream",
     "text": [
      "customerID ['7590-VHVEG' '5575-GNVDE' '3668-QPYBK' ... '4801-JZAZL' '8361-LTMKD'\n",
      " '3186-AJIEK']\n",
      "gender ['Female' 'Male']\n",
      "SeniorCitizen [0 1]\n",
      "Partner ['Yes' 'No']\n",
      "Dependents ['No' 'Yes']\n",
      "tenure [ 1 34  2 45  8 22 10 28 62 13 16 58 49 25 69 52 71 21 12 30 47 72 17 27\n",
      "  5 46 11 70 63 43 15 60 18 66  9  3 31 50 64 56  7 42 35 48 29 65 38 68\n",
      " 32 55 37 36 41  6  4 33 67 23 57 61 14 20 53 40 59 24 44 19 54 51 26  0\n",
      " 39]\n",
      "PhoneService ['No' 'Yes']\n",
      "MultipleLines ['No phone service' 'No' 'Yes']\n",
      "InternetService ['DSL' 'Fiber optic' 'No']\n",
      "OnlineSecurity ['No' 'Yes' 'No internet service']\n",
      "OnlineBackup ['Yes' 'No' 'No internet service']\n",
      "DeviceProtection ['No' 'Yes' 'No internet service']\n",
      "TechSupport ['No' 'Yes' 'No internet service']\n",
      "StreamingTV ['No' 'Yes' 'No internet service']\n",
      "StreamingMovies ['No' 'Yes' 'No internet service']\n",
      "Contract ['Month-to-month' 'One year' 'Two year']\n",
      "PaperlessBilling ['Yes' 'No']\n",
      "PaymentMethod ['Electronic check' 'Mailed check' 'Bank transfer (automatic)'\n",
      " 'Credit card (automatic)']\n",
      "MonthlyCharges [29.85 56.95 53.85 ... 63.1  44.2  78.7 ]\n",
      "TotalCharges ['29.85' '1889.5' '108.15' ... '346.45' '306.6' '6844.5']\n",
      "Churn ['No' 'Yes']\n"
     ]
    }
   ],
   "source": [
    "# Print unique value\n",
    "for col in customer_data.columns:\n",
    "    print(col, customer_data[col].unique())"
   ]
  },
  {
   "cell_type": "code",
   "execution_count": 8,
   "id": "6ea3478b-87e6-4795-8830-1c188a2026e4",
   "metadata": {},
   "outputs": [
    {
     "data": {
      "text/plain": [
       "False"
      ]
     },
     "execution_count": 8,
     "metadata": {},
     "output_type": "execute_result"
    }
   ],
   "source": [
    "#Checking Null values \n",
    "customer_data.isnull().values.any()"
   ]
  },
  {
   "cell_type": "markdown",
   "id": "df12b3a8-af9c-4e76-b3a3-71797d8c0336",
   "metadata": {},
   "source": [
    "These dataset contains 7043 rows and 21 columns. There are 3 numericals variables and 18 categoricals variables.\n",
    "The column 'SeniorCitizen' has 2 unique values (0 - 1) but considered as an interger. \n",
    "The column 'TotalCharges' indicates the customer’s total charges, calculated to the end of the quarter specified above is a string but the column must be defined as an integer \n"
   ]
  },
  {
   "cell_type": "markdown",
   "id": "731ef6b8-fbd7-4cba-97ac-c1719a9340bc",
   "metadata": {},
   "source": [
    "### <span style= \"color:green\" >2.2 | Data Cleanning </span>"
   ]
  },
  {
   "cell_type": "code",
   "execution_count": 29,
   "id": "3549f711-6070-4f1c-b690-2eee28d48ab2",
   "metadata": {},
   "outputs": [],
   "source": [
    "df=customer_data.copy()"
   ]
  },
  {
   "cell_type": "code",
   "execution_count": 30,
   "id": "d025f0e9-b25d-4e8d-8931-eb9a0f2079ad",
   "metadata": {},
   "outputs": [
    {
     "data": {
      "text/plain": [
       "Index(['customerid', 'gender', 'seniorcitizen', 'partner', 'dependents',\n",
       "       'tenure', 'phoneservice', 'multiplelines', 'internetservice',\n",
       "       'onlinesecurity', 'onlinebackup', 'deviceprotection', 'techsupport',\n",
       "       'streamingtv', 'streamingmovies', 'contract', 'paperlessbilling',\n",
       "       'paymentmethod', 'monthlycharges', 'totalcharges', 'churn'],\n",
       "      dtype='object')"
      ]
     },
     "execution_count": 30,
     "metadata": {},
     "output_type": "execute_result"
    }
   ],
   "source": [
    "#Sniker case for column\n",
    "df.columns=df.columns.str.lower()\n",
    "df.columns"
   ]
  },
  {
   "cell_type": "code",
   "execution_count": 31,
   "id": "f58a80b5-fa1b-4bec-b618-b4059c9dea34",
   "metadata": {},
   "outputs": [
    {
     "data": {
      "text/plain": [
       "string[python]"
      ]
     },
     "execution_count": 31,
     "metadata": {},
     "output_type": "execute_result"
    }
   ],
   "source": [
    "df['seniorcitizen']=df['seniorcitizen'].astype('string')\n",
    "df['seniorcitizen'].dtypes"
   ]
  },
  {
   "cell_type": "code",
   "execution_count": 32,
   "id": "12dcdb95-69e1-45bf-b1fc-92867c0ed506",
   "metadata": {},
   "outputs": [
    {
     "data": {
      "text/plain": [
       "dtype('float64')"
      ]
     },
     "execution_count": 32,
     "metadata": {},
     "output_type": "execute_result"
    }
   ],
   "source": [
    "df['totalcharges'] = pd.to_numeric(df['totalcharges'], errors='coerce')\n",
    "df['totalcharges'].dtypes"
   ]
  },
  {
   "cell_type": "code",
   "execution_count": 33,
   "id": "a8501b22-b821-4a03-b18c-b3b961eed051",
   "metadata": {},
   "outputs": [
    {
     "data": {
      "text/plain": [
       "11"
      ]
     },
     "execution_count": 33,
     "metadata": {},
     "output_type": "execute_result"
    }
   ],
   "source": [
    "# Checking Null Values after transformation\n",
    "df['totalcharges'].isnull().sum()"
   ]
  },
  {
   "cell_type": "code",
   "execution_count": 34,
   "id": "d79c856f-3457-4771-b2d5-49bf4e343c4d",
   "metadata": {},
   "outputs": [
    {
     "data": {
      "text/html": [
       "<div>\n",
       "<style scoped>\n",
       "    .dataframe tbody tr th:only-of-type {\n",
       "        vertical-align: middle;\n",
       "    }\n",
       "\n",
       "    .dataframe tbody tr th {\n",
       "        vertical-align: top;\n",
       "    }\n",
       "\n",
       "    .dataframe thead th {\n",
       "        text-align: right;\n",
       "    }\n",
       "</style>\n",
       "<table border=\"1\" class=\"dataframe\">\n",
       "  <thead>\n",
       "    <tr style=\"text-align: right;\">\n",
       "      <th></th>\n",
       "      <th>customerid</th>\n",
       "      <th>gender</th>\n",
       "      <th>seniorcitizen</th>\n",
       "      <th>partner</th>\n",
       "      <th>dependents</th>\n",
       "      <th>tenure</th>\n",
       "      <th>phoneservice</th>\n",
       "      <th>multiplelines</th>\n",
       "      <th>internetservice</th>\n",
       "      <th>onlinesecurity</th>\n",
       "      <th>...</th>\n",
       "      <th>deviceprotection</th>\n",
       "      <th>techsupport</th>\n",
       "      <th>streamingtv</th>\n",
       "      <th>streamingmovies</th>\n",
       "      <th>contract</th>\n",
       "      <th>paperlessbilling</th>\n",
       "      <th>paymentmethod</th>\n",
       "      <th>monthlycharges</th>\n",
       "      <th>totalcharges</th>\n",
       "      <th>churn</th>\n",
       "    </tr>\n",
       "  </thead>\n",
       "  <tbody>\n",
       "    <tr>\n",
       "      <th>0</th>\n",
       "      <td>7590-VHVEG</td>\n",
       "      <td>Female</td>\n",
       "      <td>0</td>\n",
       "      <td>Yes</td>\n",
       "      <td>No</td>\n",
       "      <td>1</td>\n",
       "      <td>No</td>\n",
       "      <td>No phone service</td>\n",
       "      <td>DSL</td>\n",
       "      <td>No</td>\n",
       "      <td>...</td>\n",
       "      <td>No</td>\n",
       "      <td>No</td>\n",
       "      <td>No</td>\n",
       "      <td>No</td>\n",
       "      <td>Month-to-month</td>\n",
       "      <td>Yes</td>\n",
       "      <td>Electronic check</td>\n",
       "      <td>29.85</td>\n",
       "      <td>29.85</td>\n",
       "      <td>No</td>\n",
       "    </tr>\n",
       "    <tr>\n",
       "      <th>1</th>\n",
       "      <td>5575-GNVDE</td>\n",
       "      <td>Male</td>\n",
       "      <td>0</td>\n",
       "      <td>No</td>\n",
       "      <td>No</td>\n",
       "      <td>34</td>\n",
       "      <td>Yes</td>\n",
       "      <td>No</td>\n",
       "      <td>DSL</td>\n",
       "      <td>Yes</td>\n",
       "      <td>...</td>\n",
       "      <td>Yes</td>\n",
       "      <td>No</td>\n",
       "      <td>No</td>\n",
       "      <td>No</td>\n",
       "      <td>One year</td>\n",
       "      <td>No</td>\n",
       "      <td>Mailed check</td>\n",
       "      <td>56.95</td>\n",
       "      <td>1889.50</td>\n",
       "      <td>No</td>\n",
       "    </tr>\n",
       "    <tr>\n",
       "      <th>2</th>\n",
       "      <td>3668-QPYBK</td>\n",
       "      <td>Male</td>\n",
       "      <td>0</td>\n",
       "      <td>No</td>\n",
       "      <td>No</td>\n",
       "      <td>2</td>\n",
       "      <td>Yes</td>\n",
       "      <td>No</td>\n",
       "      <td>DSL</td>\n",
       "      <td>Yes</td>\n",
       "      <td>...</td>\n",
       "      <td>No</td>\n",
       "      <td>No</td>\n",
       "      <td>No</td>\n",
       "      <td>No</td>\n",
       "      <td>Month-to-month</td>\n",
       "      <td>Yes</td>\n",
       "      <td>Mailed check</td>\n",
       "      <td>53.85</td>\n",
       "      <td>108.15</td>\n",
       "      <td>Yes</td>\n",
       "    </tr>\n",
       "    <tr>\n",
       "      <th>3</th>\n",
       "      <td>7795-CFOCW</td>\n",
       "      <td>Male</td>\n",
       "      <td>0</td>\n",
       "      <td>No</td>\n",
       "      <td>No</td>\n",
       "      <td>45</td>\n",
       "      <td>No</td>\n",
       "      <td>No phone service</td>\n",
       "      <td>DSL</td>\n",
       "      <td>Yes</td>\n",
       "      <td>...</td>\n",
       "      <td>Yes</td>\n",
       "      <td>Yes</td>\n",
       "      <td>No</td>\n",
       "      <td>No</td>\n",
       "      <td>One year</td>\n",
       "      <td>No</td>\n",
       "      <td>Bank transfer (automatic)</td>\n",
       "      <td>42.30</td>\n",
       "      <td>1840.75</td>\n",
       "      <td>No</td>\n",
       "    </tr>\n",
       "    <tr>\n",
       "      <th>4</th>\n",
       "      <td>9237-HQITU</td>\n",
       "      <td>Female</td>\n",
       "      <td>0</td>\n",
       "      <td>No</td>\n",
       "      <td>No</td>\n",
       "      <td>2</td>\n",
       "      <td>Yes</td>\n",
       "      <td>No</td>\n",
       "      <td>Fiber optic</td>\n",
       "      <td>No</td>\n",
       "      <td>...</td>\n",
       "      <td>No</td>\n",
       "      <td>No</td>\n",
       "      <td>No</td>\n",
       "      <td>No</td>\n",
       "      <td>Month-to-month</td>\n",
       "      <td>Yes</td>\n",
       "      <td>Electronic check</td>\n",
       "      <td>70.70</td>\n",
       "      <td>151.65</td>\n",
       "      <td>Yes</td>\n",
       "    </tr>\n",
       "    <tr>\n",
       "      <th>...</th>\n",
       "      <td>...</td>\n",
       "      <td>...</td>\n",
       "      <td>...</td>\n",
       "      <td>...</td>\n",
       "      <td>...</td>\n",
       "      <td>...</td>\n",
       "      <td>...</td>\n",
       "      <td>...</td>\n",
       "      <td>...</td>\n",
       "      <td>...</td>\n",
       "      <td>...</td>\n",
       "      <td>...</td>\n",
       "      <td>...</td>\n",
       "      <td>...</td>\n",
       "      <td>...</td>\n",
       "      <td>...</td>\n",
       "      <td>...</td>\n",
       "      <td>...</td>\n",
       "      <td>...</td>\n",
       "      <td>...</td>\n",
       "      <td>...</td>\n",
       "    </tr>\n",
       "    <tr>\n",
       "      <th>7038</th>\n",
       "      <td>6840-RESVB</td>\n",
       "      <td>Male</td>\n",
       "      <td>0</td>\n",
       "      <td>Yes</td>\n",
       "      <td>Yes</td>\n",
       "      <td>24</td>\n",
       "      <td>Yes</td>\n",
       "      <td>Yes</td>\n",
       "      <td>DSL</td>\n",
       "      <td>Yes</td>\n",
       "      <td>...</td>\n",
       "      <td>Yes</td>\n",
       "      <td>Yes</td>\n",
       "      <td>Yes</td>\n",
       "      <td>Yes</td>\n",
       "      <td>One year</td>\n",
       "      <td>Yes</td>\n",
       "      <td>Mailed check</td>\n",
       "      <td>84.80</td>\n",
       "      <td>1990.50</td>\n",
       "      <td>No</td>\n",
       "    </tr>\n",
       "    <tr>\n",
       "      <th>7039</th>\n",
       "      <td>2234-XADUH</td>\n",
       "      <td>Female</td>\n",
       "      <td>0</td>\n",
       "      <td>Yes</td>\n",
       "      <td>Yes</td>\n",
       "      <td>72</td>\n",
       "      <td>Yes</td>\n",
       "      <td>Yes</td>\n",
       "      <td>Fiber optic</td>\n",
       "      <td>No</td>\n",
       "      <td>...</td>\n",
       "      <td>Yes</td>\n",
       "      <td>No</td>\n",
       "      <td>Yes</td>\n",
       "      <td>Yes</td>\n",
       "      <td>One year</td>\n",
       "      <td>Yes</td>\n",
       "      <td>Credit card (automatic)</td>\n",
       "      <td>103.20</td>\n",
       "      <td>7362.90</td>\n",
       "      <td>No</td>\n",
       "    </tr>\n",
       "    <tr>\n",
       "      <th>7040</th>\n",
       "      <td>4801-JZAZL</td>\n",
       "      <td>Female</td>\n",
       "      <td>0</td>\n",
       "      <td>Yes</td>\n",
       "      <td>Yes</td>\n",
       "      <td>11</td>\n",
       "      <td>No</td>\n",
       "      <td>No phone service</td>\n",
       "      <td>DSL</td>\n",
       "      <td>Yes</td>\n",
       "      <td>...</td>\n",
       "      <td>No</td>\n",
       "      <td>No</td>\n",
       "      <td>No</td>\n",
       "      <td>No</td>\n",
       "      <td>Month-to-month</td>\n",
       "      <td>Yes</td>\n",
       "      <td>Electronic check</td>\n",
       "      <td>29.60</td>\n",
       "      <td>346.45</td>\n",
       "      <td>No</td>\n",
       "    </tr>\n",
       "    <tr>\n",
       "      <th>7041</th>\n",
       "      <td>8361-LTMKD</td>\n",
       "      <td>Male</td>\n",
       "      <td>1</td>\n",
       "      <td>Yes</td>\n",
       "      <td>No</td>\n",
       "      <td>4</td>\n",
       "      <td>Yes</td>\n",
       "      <td>Yes</td>\n",
       "      <td>Fiber optic</td>\n",
       "      <td>No</td>\n",
       "      <td>...</td>\n",
       "      <td>No</td>\n",
       "      <td>No</td>\n",
       "      <td>No</td>\n",
       "      <td>No</td>\n",
       "      <td>Month-to-month</td>\n",
       "      <td>Yes</td>\n",
       "      <td>Mailed check</td>\n",
       "      <td>74.40</td>\n",
       "      <td>306.60</td>\n",
       "      <td>Yes</td>\n",
       "    </tr>\n",
       "    <tr>\n",
       "      <th>7042</th>\n",
       "      <td>3186-AJIEK</td>\n",
       "      <td>Male</td>\n",
       "      <td>0</td>\n",
       "      <td>No</td>\n",
       "      <td>No</td>\n",
       "      <td>66</td>\n",
       "      <td>Yes</td>\n",
       "      <td>No</td>\n",
       "      <td>Fiber optic</td>\n",
       "      <td>Yes</td>\n",
       "      <td>...</td>\n",
       "      <td>Yes</td>\n",
       "      <td>Yes</td>\n",
       "      <td>Yes</td>\n",
       "      <td>Yes</td>\n",
       "      <td>Two year</td>\n",
       "      <td>Yes</td>\n",
       "      <td>Bank transfer (automatic)</td>\n",
       "      <td>105.65</td>\n",
       "      <td>6844.50</td>\n",
       "      <td>No</td>\n",
       "    </tr>\n",
       "  </tbody>\n",
       "</table>\n",
       "<p>7032 rows × 21 columns</p>\n",
       "</div>"
      ],
      "text/plain": [
       "      customerid  gender seniorcitizen partner dependents  tenure  \\\n",
       "0     7590-VHVEG  Female             0     Yes         No       1   \n",
       "1     5575-GNVDE    Male             0      No         No      34   \n",
       "2     3668-QPYBK    Male             0      No         No       2   \n",
       "3     7795-CFOCW    Male             0      No         No      45   \n",
       "4     9237-HQITU  Female             0      No         No       2   \n",
       "...          ...     ...           ...     ...        ...     ...   \n",
       "7038  6840-RESVB    Male             0     Yes        Yes      24   \n",
       "7039  2234-XADUH  Female             0     Yes        Yes      72   \n",
       "7040  4801-JZAZL  Female             0     Yes        Yes      11   \n",
       "7041  8361-LTMKD    Male             1     Yes         No       4   \n",
       "7042  3186-AJIEK    Male             0      No         No      66   \n",
       "\n",
       "     phoneservice     multiplelines internetservice onlinesecurity  ...  \\\n",
       "0              No  No phone service             DSL             No  ...   \n",
       "1             Yes                No             DSL            Yes  ...   \n",
       "2             Yes                No             DSL            Yes  ...   \n",
       "3              No  No phone service             DSL            Yes  ...   \n",
       "4             Yes                No     Fiber optic             No  ...   \n",
       "...           ...               ...             ...            ...  ...   \n",
       "7038          Yes               Yes             DSL            Yes  ...   \n",
       "7039          Yes               Yes     Fiber optic             No  ...   \n",
       "7040           No  No phone service             DSL            Yes  ...   \n",
       "7041          Yes               Yes     Fiber optic             No  ...   \n",
       "7042          Yes                No     Fiber optic            Yes  ...   \n",
       "\n",
       "     deviceprotection techsupport streamingtv streamingmovies        contract  \\\n",
       "0                  No          No          No              No  Month-to-month   \n",
       "1                 Yes          No          No              No        One year   \n",
       "2                  No          No          No              No  Month-to-month   \n",
       "3                 Yes         Yes          No              No        One year   \n",
       "4                  No          No          No              No  Month-to-month   \n",
       "...               ...         ...         ...             ...             ...   \n",
       "7038              Yes         Yes         Yes             Yes        One year   \n",
       "7039              Yes          No         Yes             Yes        One year   \n",
       "7040               No          No          No              No  Month-to-month   \n",
       "7041               No          No          No              No  Month-to-month   \n",
       "7042              Yes         Yes         Yes             Yes        Two year   \n",
       "\n",
       "     paperlessbilling              paymentmethod monthlycharges  totalcharges  \\\n",
       "0                 Yes           Electronic check          29.85         29.85   \n",
       "1                  No               Mailed check          56.95       1889.50   \n",
       "2                 Yes               Mailed check          53.85        108.15   \n",
       "3                  No  Bank transfer (automatic)          42.30       1840.75   \n",
       "4                 Yes           Electronic check          70.70        151.65   \n",
       "...               ...                        ...            ...           ...   \n",
       "7038              Yes               Mailed check          84.80       1990.50   \n",
       "7039              Yes    Credit card (automatic)         103.20       7362.90   \n",
       "7040              Yes           Electronic check          29.60        346.45   \n",
       "7041              Yes               Mailed check          74.40        306.60   \n",
       "7042              Yes  Bank transfer (automatic)         105.65       6844.50   \n",
       "\n",
       "      churn  \n",
       "0        No  \n",
       "1        No  \n",
       "2       Yes  \n",
       "3        No  \n",
       "4       Yes  \n",
       "...     ...  \n",
       "7038     No  \n",
       "7039     No  \n",
       "7040     No  \n",
       "7041    Yes  \n",
       "7042     No  \n",
       "\n",
       "[7032 rows x 21 columns]"
      ]
     },
     "execution_count": 34,
     "metadata": {},
     "output_type": "execute_result"
    }
   ],
   "source": [
    "# totalcharges columns contains 11 Null values: let's Drop\n",
    "df.dropna()"
   ]
  },
  {
   "cell_type": "code",
   "execution_count": 36,
   "id": "1b7cb455-8882-4e01-a960-5c29c7a61877",
   "metadata": {},
   "outputs": [],
   "source": [
    "df['paymentmethod']=df['paymentmethod'].replace({'Bank transfer (automatic)':'Automatic',\n",
    "                                                 'Credit card (automatic)':'Automatic'})\n"
   ]
  },
  {
   "cell_type": "markdown",
   "id": "57f59c40-0604-4aa5-bafc-22417b1a4bcb",
   "metadata": {},
   "source": [
    "### <span style= \"color:green\" >2.3 | Data Statistics and vizualisations </span>"
   ]
  },
  {
   "cell_type": "code",
   "execution_count": 38,
   "id": "59ff9d6a-571e-4f41-9eef-8c2896e8a278",
   "metadata": {},
   "outputs": [],
   "source": [
    "cat=df.select_dtypes(exclude=\"number\")\n",
    "num= df.select_dtypes(include=\"number\")"
   ]
  },
  {
   "cell_type": "code",
   "execution_count": 39,
   "id": "9f1b3404-d374-4ea8-92bd-bc60b1d8aec8",
   "metadata": {},
   "outputs": [
    {
     "data": {
      "text/html": [
       "<div>\n",
       "<style scoped>\n",
       "    .dataframe tbody tr th:only-of-type {\n",
       "        vertical-align: middle;\n",
       "    }\n",
       "\n",
       "    .dataframe tbody tr th {\n",
       "        vertical-align: top;\n",
       "    }\n",
       "\n",
       "    .dataframe thead th {\n",
       "        text-align: right;\n",
       "    }\n",
       "</style>\n",
       "<table border=\"1\" class=\"dataframe\">\n",
       "  <thead>\n",
       "    <tr style=\"text-align: right;\">\n",
       "      <th></th>\n",
       "      <th>tenure</th>\n",
       "      <th>monthlycharges</th>\n",
       "      <th>totalcharges</th>\n",
       "    </tr>\n",
       "  </thead>\n",
       "  <tbody>\n",
       "    <tr>\n",
       "      <th>count</th>\n",
       "      <td>7043.00</td>\n",
       "      <td>7043.00</td>\n",
       "      <td>7032.00</td>\n",
       "    </tr>\n",
       "    <tr>\n",
       "      <th>mean</th>\n",
       "      <td>32.37</td>\n",
       "      <td>64.76</td>\n",
       "      <td>2283.30</td>\n",
       "    </tr>\n",
       "    <tr>\n",
       "      <th>std</th>\n",
       "      <td>24.56</td>\n",
       "      <td>30.09</td>\n",
       "      <td>2266.77</td>\n",
       "    </tr>\n",
       "    <tr>\n",
       "      <th>min</th>\n",
       "      <td>0.00</td>\n",
       "      <td>18.25</td>\n",
       "      <td>18.80</td>\n",
       "    </tr>\n",
       "    <tr>\n",
       "      <th>25%</th>\n",
       "      <td>9.00</td>\n",
       "      <td>35.50</td>\n",
       "      <td>401.45</td>\n",
       "    </tr>\n",
       "    <tr>\n",
       "      <th>50%</th>\n",
       "      <td>29.00</td>\n",
       "      <td>70.35</td>\n",
       "      <td>1397.48</td>\n",
       "    </tr>\n",
       "    <tr>\n",
       "      <th>75%</th>\n",
       "      <td>55.00</td>\n",
       "      <td>89.85</td>\n",
       "      <td>3794.74</td>\n",
       "    </tr>\n",
       "    <tr>\n",
       "      <th>max</th>\n",
       "      <td>72.00</td>\n",
       "      <td>118.75</td>\n",
       "      <td>8684.80</td>\n",
       "    </tr>\n",
       "  </tbody>\n",
       "</table>\n",
       "</div>"
      ],
      "text/plain": [
       "        tenure  monthlycharges  totalcharges\n",
       "count  7043.00         7043.00       7032.00\n",
       "mean     32.37           64.76       2283.30\n",
       "std      24.56           30.09       2266.77\n",
       "min       0.00           18.25         18.80\n",
       "25%       9.00           35.50        401.45\n",
       "50%      29.00           70.35       1397.48\n",
       "75%      55.00           89.85       3794.74\n",
       "max      72.00          118.75       8684.80"
      ]
     },
     "execution_count": 39,
     "metadata": {},
     "output_type": "execute_result"
    }
   ],
   "source": [
    "round(num.describe(),2)"
   ]
  },
  {
   "cell_type": "code",
   "execution_count": 40,
   "id": "4aa22fb9-7ab2-4093-a472-9d55e51b888a",
   "metadata": {},
   "outputs": [
    {
     "data": {
      "image/png": "[encoded data removed]",
      "text/plain": [
       "<Figure size 2000x1600 with 25 Axes>"
      ]
     },
     "metadata": {},
     "output_type": "display_data"
    }
   ],
   "source": [
    "color = '#ffd447'\n",
    "\n",
    "# grid size\n",
    "nrows, ncols = 5, 5  # adjust for your number of features\n",
    "\n",
    "fig, axes = plt.subplots(nrows=nrows, ncols=ncols, figsize=(20, 16))\n",
    "\n",
    "axes = axes.flatten()\n",
    "\n",
    "# Plot each numerical feature\n",
    "for i, ax in enumerate(axes):\n",
    "    if i >= len(num.columns):\n",
    "        ax.set_visible(False)  # hide unesed plots\n",
    "        continue\n",
    "    ax.hist(num.iloc[:, i], bins=30, color=color, edgecolor='black')\n",
    "    ax.set_title(num.columns[i])\n",
    "\n",
    "plt.tight_layout()\n",
    "plt.show()"
   ]
  },
  {
   "cell_type": "code",
   "execution_count": 41,
   "id": "b3e724ab-79c7-4c81-b105-7761a879981f",
   "metadata": {},
   "outputs": [
    {
     "data": {
      "image/png": "[encoded data removed]",
      "text/plain": [
       "<Figure size 600x500 with 1 Axes>"
      ]
     },
     "metadata": {},
     "output_type": "display_data"
    }
   ],
   "source": [
    "# Churn Distribution \n",
    "\n",
    "value_counts = df['churn'].value_counts()\n",
    "\n",
    "fig, ax = plt.subplots(figsize=(6, 5))\n",
    "value_counts.plot(kind='bar',color='#065522', ax=ax)\n",
    "\n",
    "\n",
    "# Remove all spines (borders)\n",
    "for spine in ax.spines.values():\n",
    "    spine.set_visible(False)\n",
    "\n",
    "ax.set_title(\"Churn Distribution\",fontsize=10)\n",
    "ax.set_xlabel(\"Churn\", fontsize=8)\n",
    "ax.set_ylabel(\"Count\",fontsize=8)\n",
    "\n",
    "ax.tick_params(axis='both', labelsize=8)  # Adjust label size for both axes"
   ]
  },
  {
   "cell_type": "markdown",
   "id": "027f29fa-3310-4aa3-8400-4e33d780192d",
   "metadata": {},
   "source": [
    "#### Montly charges and churn"
   ]
  },
  {
   "cell_type": "code",
   "execution_count": 42,
   "id": "38c83b41-d967-47d3-9abd-c692fde6e693",
   "metadata": {},
   "outputs": [
    {
     "data": {
      "text/html": [
       "<div>\n",
       "<style scoped>\n",
       "    .dataframe tbody tr th:only-of-type {\n",
       "        vertical-align: middle;\n",
       "    }\n",
       "\n",
       "    .dataframe tbody tr th {\n",
       "        vertical-align: top;\n",
       "    }\n",
       "\n",
       "    .dataframe thead th {\n",
       "        text-align: right;\n",
       "    }\n",
       "</style>\n",
       "<table border=\"1\" class=\"dataframe\">\n",
       "  <thead>\n",
       "    <tr style=\"text-align: right;\">\n",
       "      <th>churn</th>\n",
       "      <th>No</th>\n",
       "      <th>Yes</th>\n",
       "    </tr>\n",
       "  </thead>\n",
       "  <tbody>\n",
       "    <tr>\n",
       "      <th>count</th>\n",
       "      <td>5174.00</td>\n",
       "      <td>1869.00</td>\n",
       "    </tr>\n",
       "    <tr>\n",
       "      <th>min</th>\n",
       "      <td>18.25</td>\n",
       "      <td>18.85</td>\n",
       "    </tr>\n",
       "    <tr>\n",
       "      <th>mean</th>\n",
       "      <td>61.27</td>\n",
       "      <td>74.44</td>\n",
       "    </tr>\n",
       "    <tr>\n",
       "      <th>median</th>\n",
       "      <td>64.43</td>\n",
       "      <td>79.65</td>\n",
       "    </tr>\n",
       "    <tr>\n",
       "      <th>max</th>\n",
       "      <td>118.75</td>\n",
       "      <td>118.35</td>\n",
       "    </tr>\n",
       "    <tr>\n",
       "      <th>std</th>\n",
       "      <td>31.09</td>\n",
       "      <td>24.67</td>\n",
       "    </tr>\n",
       "  </tbody>\n",
       "</table>\n",
       "</div>"
      ],
      "text/plain": [
       "churn        No      Yes\n",
       "count   5174.00  1869.00\n",
       "min       18.25    18.85\n",
       "mean      61.27    74.44\n",
       "median    64.43    79.65\n",
       "max      118.75   118.35\n",
       "std       31.09    24.67"
      ]
     },
     "execution_count": 42,
     "metadata": {},
     "output_type": "execute_result"
    }
   ],
   "source": [
    "df_Montly_char_churn= df.groupby('churn')[\"monthlycharges\"].agg(['count','min', 'mean', 'median', 'max', 'std'])\n",
    "df_Montly_char_churn=df_Montly_char_churn.transpose()\n",
    "round(df_Montly_char_churn,2)"
   ]
  },
  {
   "cell_type": "code",
   "execution_count": 48,
   "id": "ad87b48d-26bb-4251-8e51-741fcc09bec7",
   "metadata": {},
   "outputs": [
    {
     "name": "stderr",
     "output_type": "stream",
     "text": [
      "C:\\ProgramData\\anaconda3\\Lib\\site-packages\\seaborn\\_oldcore.py:1119: FutureWarning: use_inf_as_na option is deprecated and will be removed in a future version. Convert inf values to NaN before operating instead.\n",
      "  with pd.option_context('mode.use_inf_as_na', True):\n"
     ]
    },
    {
     "data": {
      "image/png": "[encoded data removed]",
      "text/plain": [
       "<Figure size 800x500 with 1 Axes>"
      ]
     },
     "metadata": {},
     "output_type": "display_data"
    }
   ],
   "source": [
    "plt.figure(figsize=(8, 5))  \n",
    "\n",
    "sns.kdeplot(data=df, x='monthlycharges', hue='churn', fill=True, \n",
    "            palette={'Yes': 'brown', 'No': 'orange'},\n",
    "           alpha=0.5, linewidth=1.0)  # Custom colors for categories\n",
    "\n",
    "\n",
    "plt.title('KDE Plot of Monthly Charges by Churn Status', fontsize=10)\n",
    "plt.xlabel('Monthly Charges', fontsize=8)\n",
    "plt.ylabel('Density', fontsize=8)\n",
    "\n",
    "\n",
    "\n",
    "plt.show()"
   ]
  },
  {
   "cell_type": "code",
   "execution_count": 50,
   "id": "85b91105-718b-49a0-aefa-489f5a5d7186",
   "metadata": {},
   "outputs": [
    {
     "data": {
      "image/png": "[encoded data removed]",
      "text/plain": [
       "<Figure size 600x500 with 1 Axes>"
      ]
     },
     "metadata": {},
     "output_type": "display_data"
    }
   ],
   "source": [
    "plt.figure(figsize=(6, 5))  # Adjust figure size\n",
    "sns.boxplot(\n",
    "    data=df, x='churn', y=\"monthlycharges\", \n",
    "    palette=\"Spectral\",  # More distinct color palette\n",
    "    showmeans=True, meanprops={\"marker\":\"o\", \"markerfacecolor\":\"white\", \"markeredgecolor\":\"black\"},\n",
    "    flierprops={\"marker\": \"o\", \"markersize\": 5, \"markerfacecolor\": \"red\", \"alpha\": 0.5}\n",
    ")\n",
    "\n",
    "# Add title and labels\n",
    "plt.title(\"Monthly Charges by Churn Status\", fontsize=12)\n",
    "plt.xlabel(\"Churn Status \", fontsize=10)\n",
    "plt.ylabel(\"Monthly Charges ($)\", fontsize=10)\n",
    "plt.grid(axis='y', linestyle=\"--\", alpha=0.7)  # Add a light grid for readability\n",
    "\n",
    "plt.show()\n"
   ]
  },
  {
   "cell_type": "markdown",
   "id": "b27c21d5-48cf-4746-9f84-457be3ff3963",
   "metadata": {},
   "source": [
    "In Average, the monthly charges of total customers is 70,35$.\n",
    "The average amount is different beetween Churn status. Non Churned Customers  paid in average 61,27 and churned customers paid 74,44."
   ]
  },
  {
   "cell_type": "markdown",
   "id": "cac55df9-5b35-4265-af15-bb8b5365d302",
   "metadata": {},
   "source": [
    "#### tenure by churn"
   ]
  },
  {
   "cell_type": "code",
   "execution_count": 51,
   "id": "f9d6b67b-7db2-4d0f-9930-666302fa076e",
   "metadata": {},
   "outputs": [
    {
     "data": {
      "text/html": [
       "<div>\n",
       "<style scoped>\n",
       "    .dataframe tbody tr th:only-of-type {\n",
       "        vertical-align: middle;\n",
       "    }\n",
       "\n",
       "    .dataframe tbody tr th {\n",
       "        vertical-align: top;\n",
       "    }\n",
       "\n",
       "    .dataframe thead th {\n",
       "        text-align: right;\n",
       "    }\n",
       "</style>\n",
       "<table border=\"1\" class=\"dataframe\">\n",
       "  <thead>\n",
       "    <tr style=\"text-align: right;\">\n",
       "      <th>churn</th>\n",
       "      <th>No</th>\n",
       "      <th>Yes</th>\n",
       "    </tr>\n",
       "  </thead>\n",
       "  <tbody>\n",
       "    <tr>\n",
       "      <th>count</th>\n",
       "      <td>5174.00</td>\n",
       "      <td>1869.00</td>\n",
       "    </tr>\n",
       "    <tr>\n",
       "      <th>min</th>\n",
       "      <td>0.00</td>\n",
       "      <td>1.00</td>\n",
       "    </tr>\n",
       "    <tr>\n",
       "      <th>mean</th>\n",
       "      <td>37.57</td>\n",
       "      <td>17.98</td>\n",
       "    </tr>\n",
       "    <tr>\n",
       "      <th>median</th>\n",
       "      <td>38.00</td>\n",
       "      <td>10.00</td>\n",
       "    </tr>\n",
       "    <tr>\n",
       "      <th>max</th>\n",
       "      <td>72.00</td>\n",
       "      <td>72.00</td>\n",
       "    </tr>\n",
       "    <tr>\n",
       "      <th>std</th>\n",
       "      <td>24.11</td>\n",
       "      <td>19.53</td>\n",
       "    </tr>\n",
       "  </tbody>\n",
       "</table>\n",
       "</div>"
      ],
      "text/plain": [
       "churn        No      Yes\n",
       "count   5174.00  1869.00\n",
       "min        0.00     1.00\n",
       "mean      37.57    17.98\n",
       "median    38.00    10.00\n",
       "max       72.00    72.00\n",
       "std       24.11    19.53"
      ]
     },
     "execution_count": 51,
     "metadata": {},
     "output_type": "execute_result"
    }
   ],
   "source": [
    "df_tenure_churn= df.groupby('churn')[\"tenure\"].agg(['count','min', 'mean', 'median', 'max', 'std'])\n",
    "df_tenure_churn=df_tenure_churn.transpose()\n",
    "round(df_tenure_churn,2)"
   ]
  },
  {
   "cell_type": "code",
   "execution_count": 52,
   "id": "3aa7cbca-0e19-4632-bd86-207993942ece",
   "metadata": {},
   "outputs": [
    {
     "name": "stderr",
     "output_type": "stream",
     "text": [
      "C:\\ProgramData\\anaconda3\\Lib\\site-packages\\seaborn\\_oldcore.py:1119: FutureWarning: use_inf_as_na option is deprecated and will be removed in a future version. Convert inf values to NaN before operating instead.\n",
      "  with pd.option_context('mode.use_inf_as_na', True):\n"
     ]
    },
    {
     "data": {
      "image/png": "[encoded data removed]",
      "text/plain": [
       "<Figure size 800x500 with 1 Axes>"
      ]
     },
     "metadata": {},
     "output_type": "display_data"
    }
   ],
   "source": [
    "plt.figure(figsize=(8, 5))  \n",
    "\n",
    "sns.kdeplot(data=df, x='tenure', hue='churn', fill=True, \n",
    "            palette={'Yes': 'green', 'No': 'orange'},\n",
    "           alpha=0.5, linewidth=1.5)  # Custom colors for categories\n",
    "\n",
    "\n",
    "plt.title('KDE Plot of Tenure by Churn', fontsize=10)\n",
    "plt.xlabel('Tenure', fontsize=8)\n",
    "plt.ylabel('Density', fontsize=8)\n",
    "\n",
    "\n",
    "\n",
    "plt.show()"
   ]
  },
  {
   "cell_type": "markdown",
   "id": "67f34ca9-e023-4167-afde-4d6b33df4053",
   "metadata": {},
   "source": [
    "the median tenure of Churned Customers is 10 months. That's mean that 50% of churned people have very low tenure (0-10 months).\n",
    "This suggests that customers who leave tend to do so early in their contract.\n",
    "The probability of churn decreases significantly as tenure increases.\n",
    "\n",
    "The distribution is bimodal for Non-Churned Customers: there is 2 peaks. First peak (around 5-10 months): Some customers stay short-term but don’t churn.\n",
    "Second peak (around 70+ months): Many customers stay long-term and rarely churn."
   ]
  },
  {
   "cell_type": "markdown",
   "id": "8606ea1d-309e-4a7d-b16e-9d9239aa6481",
   "metadata": {},
   "source": [
    "#### Contract by churn"
   ]
  },
  {
   "cell_type": "code",
   "execution_count": 64,
   "id": "faef9b0c-8c7c-4393-a479-87ccf05aa2e7",
   "metadata": {},
   "outputs": [
    {
     "data": {
      "image/png": "[encoded data removed]",
      "text/plain": [
       "<Figure size 640x480 with 1 Axes>"
      ]
     },
     "metadata": {},
     "output_type": "display_data"
    }
   ],
   "source": [
    "Contract_counts = crosstab_result.sum(axis=0)\n",
    "\n",
    "# Create a pieplot\n",
    "plt.pie(\n",
    "    Contract_counts, \n",
    "    labels=Contract_counts.index, \n",
    "    autopct='%1.1f%%',\n",
    "    colors=['red', 'lightgreen','orange']\n",
    ")\n",
    "\n",
    "\n",
    "\n",
    "# add a circle at the center to transform it in a donut chart\n",
    "my_circle=plt.Circle( (0,0), 0.7, color='white')\n",
    "p=plt.gcf()\n",
    "p.gca().add_artist(my_circle)\n",
    "\n",
    "plt.title(\"Type of Contract\")\n",
    "\n",
    "plt.show()"
   ]
  },
  {
   "cell_type": "code",
   "execution_count": 78,
   "id": "d188218d-af53-4fdd-bc4b-263c5acf0faf",
   "metadata": {},
   "outputs": [
    {
     "data": {
      "text/html": [
       "<div>\n",
       "<style scoped>\n",
       "    .dataframe tbody tr th:only-of-type {\n",
       "        vertical-align: middle;\n",
       "    }\n",
       "\n",
       "    .dataframe tbody tr th {\n",
       "        vertical-align: top;\n",
       "    }\n",
       "\n",
       "    .dataframe thead th {\n",
       "        text-align: right;\n",
       "    }\n",
       "</style>\n",
       "<table border=\"1\" class=\"dataframe\">\n",
       "  <thead>\n",
       "    <tr style=\"text-align: right;\">\n",
       "      <th>churn</th>\n",
       "      <th>No</th>\n",
       "      <th>Yes</th>\n",
       "    </tr>\n",
       "    <tr>\n",
       "      <th>contract</th>\n",
       "      <th></th>\n",
       "      <th></th>\n",
       "    </tr>\n",
       "  </thead>\n",
       "  <tbody>\n",
       "    <tr>\n",
       "      <th>Month-to-month</th>\n",
       "      <td>31.52</td>\n",
       "      <td>23.50</td>\n",
       "    </tr>\n",
       "    <tr>\n",
       "      <th>One year</th>\n",
       "      <td>18.56</td>\n",
       "      <td>2.36</td>\n",
       "    </tr>\n",
       "    <tr>\n",
       "      <th>Two year</th>\n",
       "      <td>23.38</td>\n",
       "      <td>0.68</td>\n",
       "    </tr>\n",
       "  </tbody>\n",
       "</table>\n",
       "</div>"
      ],
      "text/plain": [
       "churn              No    Yes\n",
       "contract                    \n",
       "Month-to-month  31.52  23.50\n",
       "One year        18.56   2.36\n",
       "Two year        23.38   0.68"
      ]
     },
     "execution_count": 78,
     "metadata": {},
     "output_type": "execute_result"
    }
   ],
   "source": [
    "crosstab_result = pd.crosstab(df['churn'], df['contract'], normalize=True)*100\n",
    "round(crosstab_result,2).transpose()"
   ]
  },
  {
   "cell_type": "markdown",
   "id": "6e76d82d-f79d-4b1e-91cc-580e91ef6559",
   "metadata": {},
   "source": [
    "#### Churn and paymentmethod"
   ]
  },
  {
   "cell_type": "code",
   "execution_count": 54,
   "id": "84cf4f7d-c245-474c-925f-4a29a93d308b",
   "metadata": {},
   "outputs": [
    {
     "data": {
      "text/html": [
       "<div>\n",
       "<style scoped>\n",
       "    .dataframe tbody tr th:only-of-type {\n",
       "        vertical-align: middle;\n",
       "    }\n",
       "\n",
       "    .dataframe tbody tr th {\n",
       "        vertical-align: top;\n",
       "    }\n",
       "\n",
       "    .dataframe thead th {\n",
       "        text-align: right;\n",
       "    }\n",
       "</style>\n",
       "<table border=\"1\" class=\"dataframe\">\n",
       "  <thead>\n",
       "    <tr style=\"text-align: right;\">\n",
       "      <th>churn</th>\n",
       "      <th>No</th>\n",
       "      <th>Yes</th>\n",
       "    </tr>\n",
       "    <tr>\n",
       "      <th>paymentmethod</th>\n",
       "      <th></th>\n",
       "      <th></th>\n",
       "    </tr>\n",
       "  </thead>\n",
       "  <tbody>\n",
       "    <tr>\n",
       "      <th>Automatic</th>\n",
       "      <td>2576</td>\n",
       "      <td>490</td>\n",
       "    </tr>\n",
       "    <tr>\n",
       "      <th>Electronic check</th>\n",
       "      <td>1294</td>\n",
       "      <td>1071</td>\n",
       "    </tr>\n",
       "    <tr>\n",
       "      <th>Mailed check</th>\n",
       "      <td>1304</td>\n",
       "      <td>308</td>\n",
       "    </tr>\n",
       "  </tbody>\n",
       "</table>\n",
       "</div>"
      ],
      "text/plain": [
       "churn               No   Yes\n",
       "paymentmethod               \n",
       "Automatic         2576   490\n",
       "Electronic check  1294  1071\n",
       "Mailed check      1304   308"
      ]
     },
     "execution_count": 54,
     "metadata": {},
     "output_type": "execute_result"
    }
   ],
   "source": [
    "crosstab_result1 = pd.crosstab(df['churn'], df['paymentmethod'])\n",
    "crosstab_result1.transpose()"
   ]
  },
  {
   "cell_type": "code",
   "execution_count": 55,
   "id": "835d3690-5eb0-45a5-98f5-dd0f013d12d8",
   "metadata": {},
   "outputs": [
    {
     "data": {
      "image/png": "[encoded data removed]",
      "text/plain": [
       "<Figure size 900x500 with 1 Axes>"
      ]
     },
     "metadata": {},
     "output_type": "display_data"
    }
   ],
   "source": [
    "plt.figure(figsize=(9, 5))\n",
    "sns.countplot(data=df, x='paymentmethod', hue='churn', palette='Spectral', edgecolor='black')\n",
    "\n",
    "plt.title('Payment Method vs Churn Status')\n",
    "plt.xlabel('Payment Method')\n",
    "plt.ylabel('Count')\n",
    "plt.grid(True)\n",
    "plt.show()"
   ]
  },
  {
   "cell_type": "markdown",
   "id": "c10eb30a-a820-4b30-a671-6c3324a833ee",
   "metadata": {},
   "source": [
    " Customers who paid their bill by using automatic method are less likely to unsubscribe. The proportion of churned customers is higher when payment method is electronic check "
   ]
  },
  {
   "cell_type": "markdown",
   "id": "fa3e90ff-596c-4ceb-919a-c24f25bef9cb",
   "metadata": {},
   "source": [
    "People who has aquired month to month contact, their leaving and staying rate isn't very much different.\n",
    "But people with one year or two year contract their staying rate is much higher than leaving."
   ]
  },
  {
   "cell_type": "markdown",
   "id": "0dd9cccd-0a14-4c7d-8866-36292172ffa3",
   "metadata": {},
   "source": [
    "### <span style= \"color:green\" >2.4 | Correlation </span>"
   ]
  },
  {
   "cell_type": "code",
   "execution_count": 60,
   "id": "e7c02a85-8db2-43fe-a65a-690c6e7e59ee",
   "metadata": {},
   "outputs": [
    {
     "name": "stdout",
     "output_type": "stream",
     "text": [
      "The null hypothesis of the Chi-square test is that the categorical variables Churn and contract are independent.\n",
      "The p-value is 5.863038300673391e-258 that implies there is a significant association between Churn and contract.\n"
     ]
    }
   ],
   "source": [
    "# Relationships and interactions between 'Churn' and 'contract'\n",
    "chi2_stats, chi2_pvalue, _, _ = chi2_contingency(crosstab_result)\n",
    "\n",
    "if chi2_pvalue < 0.05:\n",
    "    print(f'The null hypothesis of the Chi-square test is that the categorical variables Churn and contract are independent.\\nThe p-value is {chi2_pvalue} that implies there is a significant association between Churn and contract.')\n",
    "else:\n",
    "    pint(f'The null hypothesis of the Chi-square test is that the categorical variables Churn and contract are independent.\\nThe p-value is {chi2_pvalue}there is not enough evidence to conclude a significant association between Churn and contract.')\n"
   ]
  },
  {
   "cell_type": "code",
   "execution_count": 61,
   "id": "6f3ce92f-f676-4801-8351-142ab990622c",
   "metadata": {},
   "outputs": [
    {
     "name": "stdout",
     "output_type": "stream",
     "text": [
      "The null hypothesis of the Chi-square test is that the categorical variables Churn and paymentmethod are independent.\n",
      "The p-value is 2.762798590247217e-141 that implies there is a significant association between Churn and paymentmethod.\n"
     ]
    }
   ],
   "source": [
    "# Relationships and interactions between 'Churn' and 'paymentmethod'\n",
    "chi2_stats, chi2_pvalue, _, _ = chi2_contingency(crosstab_result1)\n",
    "\n",
    "\n",
    "if chi2_pvalue < 0.05:\n",
    "    print(f'The null hypothesis of the Chi-square test is that the categorical variables Churn and paymentmethod are independent.\\nThe p-value is {chi2_pvalue} that implies there is a significant association between Churn and paymentmethod.')\n",
    "else:\n",
    "    pint(f'The null hypothesis of the Chi-square test is that the categorical variables Churn and paymentmethod are independent.\\nThe p-value is {chi2_pvalue}there is not enough evidence to conclude a significant association between Churn and paymentmethod.')"
   ]
  },
  {
   "cell_type": "markdown",
   "id": "593a25c6-641d-402d-ace5-4b11c55df758",
   "metadata": {},
   "source": [
    "### Feature engineering"
   ]
  },
  {
   "cell_type": "code",
   "execution_count": 65,
   "id": "d46e8635-3ce4-4739-ae07-2b820c3b0d6d",
   "metadata": {},
   "outputs": [],
   "source": [
    "df_encoding=df.copy()"
   ]
  },
  {
   "cell_type": "code",
   "execution_count": 66,
   "id": "6b2d4f4e-fc91-4de4-b5c5-4e627bc51a00",
   "metadata": {},
   "outputs": [],
   "source": [
    "df_encoding['seniorcitizen']=pd.to_numeric(df['seniorcitizen'], errors='coerce')"
   ]
  },
  {
   "cell_type": "code",
   "execution_count": 67,
   "id": "5cb1ca76-a296-4e08-88b2-f922ca2df44d",
   "metadata": {},
   "outputs": [],
   "source": [
    "# Binary encoding.\n",
    "df_encoding['partner']=df_encoding['partner'].replace({\"No\":0, \"Yes\":1})\n",
    "df_encoding['churn'] = df_encoding['churn'].replace({'No': 0, 'Yes': 1})\n",
    "df_encoding['dependents'] = df_encoding['dependents'].replace({'No':0, 'Yes': 1})\n",
    "\n",
    "df_encoding['internetservice'] = df_encoding['internetservice'].replace({'No': 0, 'DSL': 1, 'Fiber optic':2 })\n",
    "df_encoding['contract'] = df_encoding['contract'].replace({'Month-to-month':0, 'One year':1, 'Two year':2})\n",
    "df_encoding['paymentmethod'] = df_encoding['paymentmethod'].replace({'Electronic check':0, 'Mailed check':1, 'Automatic':2})\n",
    "df_encoding['paperlessbilling'] = df_encoding['dependents'].replace({'No': 0, 'Yes': 1})\n",
    "df_encoding['gender'] = df_encoding['gender'].replace({'Female':0, 'Male':1})\n",
    "\n",
    "\n",
    "\n",
    "df_encoding['phoneservice'] = df_encoding['phoneservice'].replace({'No': 0, 'Yes': 1})\n",
    "df_encoding['multiplelines'] = df_encoding['multiplelines'].replace({'No phone service': 1, 'No':2, 'Yes': 3})\n",
    "df_encoding['onlinesecurity'] = df_encoding['onlinesecurity'].replace({'No internet service': 1, 'No':2, 'Yes': 3})\n",
    "df_encoding['onlinebackup'] = df_encoding['onlinebackup'].replace({'No internet service': 1, 'No':2, 'Yes': 3})\n",
    "df_encoding['deviceprotection'] = df_encoding['deviceprotection'].replace({'No internet service': 1, 'No':2, 'Yes': 3})\n",
    "df_encoding['techsupport'] = df_encoding['techsupport'].replace({'No internet service': 1, 'No':2, 'Yes': 3})\n",
    "df_encoding['streamingtv'] = df_encoding['streamingtv'].replace({'No internet service': 1, 'No':2, 'Yes': 3})\n",
    "df_encoding['streamingmovies'] = df_encoding['streamingmovies'].replace({'No internet service': 1, 'No':2, 'Yes': 3})\n"
   ]
  },
  {
   "cell_type": "code",
   "execution_count": 68,
   "id": "f1193f7f-3dfd-4e69-b6e5-28fec5561839",
   "metadata": {},
   "outputs": [],
   "source": [
    "df_encoding=df_encoding.drop('customerid',axis=1)"
   ]
  },
  {
   "cell_type": "code",
   "execution_count": 69,
   "id": "0db995d2-aed5-460f-9b54-0942d5b378b5",
   "metadata": {},
   "outputs": [
    {
     "data": {
      "text/plain": [
       "gender                int64\n",
       "seniorcitizen         Int64\n",
       "partner               int64\n",
       "dependents            int64\n",
       "tenure                int64\n",
       "phoneservice          int64\n",
       "multiplelines         int64\n",
       "internetservice       int64\n",
       "onlinesecurity        int64\n",
       "onlinebackup          int64\n",
       "deviceprotection      int64\n",
       "techsupport           int64\n",
       "streamingtv           int64\n",
       "streamingmovies       int64\n",
       "contract              int64\n",
       "paperlessbilling      int64\n",
       "paymentmethod         int64\n",
       "monthlycharges      float64\n",
       "totalcharges        float64\n",
       "churn                 int64\n",
       "dtype: object"
      ]
     },
     "execution_count": 69,
     "metadata": {},
     "output_type": "execute_result"
    }
   ],
   "source": [
    "df_encoding.dtypes"
   ]
  },
  {
   "cell_type": "code",
   "execution_count": 70,
   "id": "b98bec13-e271-4528-8661-7f7c3ca618df",
   "metadata": {},
   "outputs": [
    {
     "data": {
      "text/html": [
       "<div>\n",
       "<style scoped>\n",
       "    .dataframe tbody tr th:only-of-type {\n",
       "        vertical-align: middle;\n",
       "    }\n",
       "\n",
       "    .dataframe tbody tr th {\n",
       "        vertical-align: top;\n",
       "    }\n",
       "\n",
       "    .dataframe thead th {\n",
       "        text-align: right;\n",
       "    }\n",
       "</style>\n",
       "<table border=\"1\" class=\"dataframe\">\n",
       "  <thead>\n",
       "    <tr style=\"text-align: right;\">\n",
       "      <th></th>\n",
       "      <th>gender</th>\n",
       "      <th>seniorcitizen</th>\n",
       "      <th>partner</th>\n",
       "      <th>dependents</th>\n",
       "      <th>tenure</th>\n",
       "      <th>phoneservice</th>\n",
       "      <th>multiplelines</th>\n",
       "      <th>internetservice</th>\n",
       "      <th>onlinesecurity</th>\n",
       "      <th>onlinebackup</th>\n",
       "      <th>deviceprotection</th>\n",
       "      <th>techsupport</th>\n",
       "      <th>streamingtv</th>\n",
       "      <th>streamingmovies</th>\n",
       "      <th>contract</th>\n",
       "      <th>paperlessbilling</th>\n",
       "      <th>paymentmethod</th>\n",
       "      <th>monthlycharges</th>\n",
       "      <th>totalcharges</th>\n",
       "      <th>churn</th>\n",
       "    </tr>\n",
       "  </thead>\n",
       "  <tbody>\n",
       "    <tr>\n",
       "      <th>0</th>\n",
       "      <td>0</td>\n",
       "      <td>0</td>\n",
       "      <td>1</td>\n",
       "      <td>0</td>\n",
       "      <td>1</td>\n",
       "      <td>0</td>\n",
       "      <td>1</td>\n",
       "      <td>1</td>\n",
       "      <td>2</td>\n",
       "      <td>3</td>\n",
       "      <td>2</td>\n",
       "      <td>2</td>\n",
       "      <td>2</td>\n",
       "      <td>2</td>\n",
       "      <td>0</td>\n",
       "      <td>0</td>\n",
       "      <td>0</td>\n",
       "      <td>29.85</td>\n",
       "      <td>29.85</td>\n",
       "      <td>0</td>\n",
       "    </tr>\n",
       "    <tr>\n",
       "      <th>1</th>\n",
       "      <td>1</td>\n",
       "      <td>0</td>\n",
       "      <td>0</td>\n",
       "      <td>0</td>\n",
       "      <td>34</td>\n",
       "      <td>1</td>\n",
       "      <td>2</td>\n",
       "      <td>1</td>\n",
       "      <td>3</td>\n",
       "      <td>2</td>\n",
       "      <td>3</td>\n",
       "      <td>2</td>\n",
       "      <td>2</td>\n",
       "      <td>2</td>\n",
       "      <td>1</td>\n",
       "      <td>0</td>\n",
       "      <td>1</td>\n",
       "      <td>56.95</td>\n",
       "      <td>1889.50</td>\n",
       "      <td>0</td>\n",
       "    </tr>\n",
       "    <tr>\n",
       "      <th>2</th>\n",
       "      <td>1</td>\n",
       "      <td>0</td>\n",
       "      <td>0</td>\n",
       "      <td>0</td>\n",
       "      <td>2</td>\n",
       "      <td>1</td>\n",
       "      <td>2</td>\n",
       "      <td>1</td>\n",
       "      <td>3</td>\n",
       "      <td>3</td>\n",
       "      <td>2</td>\n",
       "      <td>2</td>\n",
       "      <td>2</td>\n",
       "      <td>2</td>\n",
       "      <td>0</td>\n",
       "      <td>0</td>\n",
       "      <td>1</td>\n",
       "      <td>53.85</td>\n",
       "      <td>108.15</td>\n",
       "      <td>1</td>\n",
       "    </tr>\n",
       "    <tr>\n",
       "      <th>3</th>\n",
       "      <td>1</td>\n",
       "      <td>0</td>\n",
       "      <td>0</td>\n",
       "      <td>0</td>\n",
       "      <td>45</td>\n",
       "      <td>0</td>\n",
       "      <td>1</td>\n",
       "      <td>1</td>\n",
       "      <td>3</td>\n",
       "      <td>2</td>\n",
       "      <td>3</td>\n",
       "      <td>3</td>\n",
       "      <td>2</td>\n",
       "      <td>2</td>\n",
       "      <td>1</td>\n",
       "      <td>0</td>\n",
       "      <td>2</td>\n",
       "      <td>42.30</td>\n",
       "      <td>1840.75</td>\n",
       "      <td>0</td>\n",
       "    </tr>\n",
       "    <tr>\n",
       "      <th>4</th>\n",
       "      <td>0</td>\n",
       "      <td>0</td>\n",
       "      <td>0</td>\n",
       "      <td>0</td>\n",
       "      <td>2</td>\n",
       "      <td>1</td>\n",
       "      <td>2</td>\n",
       "      <td>2</td>\n",
       "      <td>2</td>\n",
       "      <td>2</td>\n",
       "      <td>2</td>\n",
       "      <td>2</td>\n",
       "      <td>2</td>\n",
       "      <td>2</td>\n",
       "      <td>0</td>\n",
       "      <td>0</td>\n",
       "      <td>0</td>\n",
       "      <td>70.70</td>\n",
       "      <td>151.65</td>\n",
       "      <td>1</td>\n",
       "    </tr>\n",
       "  </tbody>\n",
       "</table>\n",
       "</div>"
      ],
      "text/plain": [
       "   gender  seniorcitizen  partner  dependents  tenure  phoneservice  \\\n",
       "0       0              0        1           0       1             0   \n",
       "1       1              0        0           0      34             1   \n",
       "2       1              0        0           0       2             1   \n",
       "3       1              0        0           0      45             0   \n",
       "4       0              0        0           0       2             1   \n",
       "\n",
       "   multiplelines  internetservice  onlinesecurity  onlinebackup  \\\n",
       "0              1                1               2             3   \n",
       "1              2                1               3             2   \n",
       "2              2                1               3             3   \n",
       "3              1                1               3             2   \n",
       "4              2                2               2             2   \n",
       "\n",
       "   deviceprotection  techsupport  streamingtv  streamingmovies  contract  \\\n",
       "0                 2            2            2                2         0   \n",
       "1                 3            2            2                2         1   \n",
       "2                 2            2            2                2         0   \n",
       "3                 3            3            2                2         1   \n",
       "4                 2            2            2                2         0   \n",
       "\n",
       "   paperlessbilling  paymentmethod  monthlycharges  totalcharges  churn  \n",
       "0                 0              0           29.85         29.85      0  \n",
       "1                 0              1           56.95       1889.50      0  \n",
       "2                 0              1           53.85        108.15      1  \n",
       "3                 0              2           42.30       1840.75      0  \n",
       "4                 0              0           70.70        151.65      1  "
      ]
     },
     "execution_count": 70,
     "metadata": {},
     "output_type": "execute_result"
    }
   ],
   "source": [
    "df_encoding.head(5)"
   ]
  },
  {
   "cell_type": "code",
   "execution_count": 71,
   "id": "fb8646a6-0f56-4e4d-879f-64656d8c54e1",
   "metadata": {},
   "outputs": [
    {
     "data": {
      "text/plain": [
       "churn               1.000000\n",
       "internetservice     0.316846\n",
       "monthlycharges      0.193356\n",
       "streamingtv         0.164673\n",
       "streamingmovies     0.163220\n",
       "seniorcitizen       0.150889\n",
       "deviceprotection    0.084654\n",
       "onlinebackup        0.074205\n",
       "multiplelines       0.036310\n",
       "techsupport         0.027037\n",
       "onlinesecurity      0.023309\n",
       "phoneservice        0.011942\n",
       "gender             -0.008612\n",
       "partner            -0.150448\n",
       "dependents         -0.164221\n",
       "paperlessbilling   -0.164221\n",
       "totalcharges       -0.199484\n",
       "paymentmethod      -0.282708\n",
       "tenure             -0.352229\n",
       "contract           -0.396713\n",
       "Name: churn, dtype: float64"
      ]
     },
     "execution_count": 71,
     "metadata": {},
     "output_type": "execute_result"
    }
   ],
   "source": [
    "corr_churn=df_encoding.corr()['churn'].sort_values(ascending=False)\n",
    "corr_churn"
   ]
  },
  {
   "cell_type": "code",
   "execution_count": 74,
   "id": "64b3ced9-2719-44a4-85c3-0e1b0775e920",
   "metadata": {},
   "outputs": [
    {
     "data": {
      "image/png": "[encoded data removed]",
      "text/plain": [
       "<Figure size 800x500 with 1 Axes>"
      ]
     },
     "metadata": {},
     "output_type": "display_data"
    }
   ],
   "source": [
    "# Plot bar chart\n",
    "fig,ax=plt.subplots(figsize=(8,5))\n",
    "\n",
    "corr_churn.plot(kind='bar', color='#56b2cc', edgecolor='black',ax=ax)\n",
    "\n",
    "plt.title(\"Correlation with Churn\")\n",
    "plt.xlabel(\"Features\")\n",
    "plt.ylabel(\"Correlation Value\")\n",
    "plt.xticks(rotation=45)  # Rotate labels for better visibility\n",
    "\n",
    "plt.show()"
   ]
  },
  {
   "cell_type": "code",
   "execution_count": null,
   "id": "a8ff9a22-1b5f-4421-8ded-b7485ae02c9b",
   "metadata": {},
   "outputs": [],
   "source": []
  }
 ],
 "metadata": {
  "kernelspec": {
   "display_name": "Python 3 (ipykernel)",
   "language": "python",
   "name": "python3"
  },
  "language_info": {
   "codemirror_mode": {
    "name": "ipython",
    "version": 3
   },
   "file_extension": ".py",
   "mimetype": "text/x-python",
   "name": "python",
   "nbconvert_exporter": "python",
   "pygments_lexer": "ipython3",
   "version": "3.11.7"
  }
 },
 "nbformat": 4,
 "nbformat_minor": 5
}
